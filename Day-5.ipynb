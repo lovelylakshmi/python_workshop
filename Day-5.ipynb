{
 "cells": [
  {
   "cell_type": "markdown",
   "metadata": {},
   "source": [
    "# 1.Regular expression:\n",
    "# 2.OOPS\n",
    "# 3.Numpy\n",
    "# 4.matplotlib\n",
    "# 5.Pandas\n"
   ]
  },
  {
   "cell_type": "markdown",
   "metadata": {},
   "source": [
    "# Regular Expressions:\n",
    "- to check the data is valid or not\n",
    "- data filters"
   ]
  },
  {
   "cell_type": "code",
   "execution_count": 6,
   "metadata": {},
   "outputs": [
    {
     "data": {
      "text/plain": [
       "\"['abc', 'aca', 'adc']\""
      ]
     },
     "execution_count": 6,
     "metadata": {},
     "output_type": "execute_result"
    }
   ],
   "source": [
    "l = ['abc','aca','adc']\n",
    "type(l)\n",
    "str(l)"
   ]
  },
  {
   "cell_type": "code",
   "execution_count": 7,
   "metadata": {},
   "outputs": [
    {
     "name": "stdout",
     "output_type": "stream",
     "text": [
      "<class 'str'>\n",
      "<class 'str'>\n",
      "<class 'str'>\n"
     ]
    }
   ],
   "source": [
    "l = ['abc','aca','adc']\n",
    "for i in l:\n",
    "    print(type(i))"
   ]
  },
  {
   "cell_type": "code",
   "execution_count": 8,
   "metadata": {},
   "outputs": [
    {
     "name": "stdout",
     "output_type": "stream",
     "text": [
      "aca\n"
     ]
    }
   ],
   "source": [
    "l = ['abc','aca','adc']\n",
    "for i in l:\n",
    "    if i.endswith('a'):\n",
    "        print(i)"
   ]
  },
  {
   "cell_type": "code",
   "execution_count": 11,
   "metadata": {},
   "outputs": [
    {
     "name": "stdout",
     "output_type": "stream",
     "text": [
      "aca\n",
      "ada\n",
      "abba\n"
     ]
    }
   ],
   "source": [
    "l = ['abc','aca','ada','abba']\n",
    "for i in l:\n",
    "    if i.endswith('a')and i.startswith('a'):\n",
    "        print(i)"
   ]
  },
  {
   "cell_type": "code",
   "execution_count": 12,
   "metadata": {},
   "outputs": [],
   "source": [
    "import re"
   ]
  },
  {
   "cell_type": "code",
   "execution_count": 14,
   "metadata": {},
   "outputs": [
    {
     "data": {
      "text/plain": [
       "['A',\n",
       " 'ASCII',\n",
       " 'DEBUG',\n",
       " 'DOTALL',\n",
       " 'I',\n",
       " 'IGNORECASE',\n",
       " 'L',\n",
       " 'LOCALE',\n",
       " 'M',\n",
       " 'MULTILINE',\n",
       " 'RegexFlag',\n",
       " 'S',\n",
       " 'Scanner',\n",
       " 'T',\n",
       " 'TEMPLATE',\n",
       " 'U',\n",
       " 'UNICODE',\n",
       " 'VERBOSE',\n",
       " 'X',\n",
       " '_MAXCACHE',\n",
       " '__all__',\n",
       " '__builtins__',\n",
       " '__cached__',\n",
       " '__doc__',\n",
       " '__file__',\n",
       " '__loader__',\n",
       " '__name__',\n",
       " '__package__',\n",
       " '__spec__',\n",
       " '__version__',\n",
       " '_alphanum_bytes',\n",
       " '_alphanum_str',\n",
       " '_cache',\n",
       " '_compile',\n",
       " '_compile_repl',\n",
       " '_expand',\n",
       " '_locale',\n",
       " '_pattern_type',\n",
       " '_pickle',\n",
       " '_subx',\n",
       " 'compile',\n",
       " 'copyreg',\n",
       " 'enum',\n",
       " 'error',\n",
       " 'escape',\n",
       " 'findall',\n",
       " 'finditer',\n",
       " 'fullmatch',\n",
       " 'functools',\n",
       " 'match',\n",
       " 'purge',\n",
       " 'search',\n",
       " 'split',\n",
       " 'sre_compile',\n",
       " 'sre_parse',\n",
       " 'sub',\n",
       " 'subn',\n",
       " 'template']"
      ]
     },
     "execution_count": 14,
     "metadata": {},
     "output_type": "execute_result"
    }
   ],
   "source": [
    "dir(re)"
   ]
  },
  {
   "cell_type": "markdown",
   "metadata": {},
   "source": [
    "# Syntax:\n",
    "- re.methodname(pattern,data)\n",
    "- pattern is format of reguired data\n",
    "- data is given values"
   ]
  },
  {
   "cell_type": "code",
   "execution_count": 24,
   "metadata": {},
   "outputs": [
    {
     "data": {
      "text/plain": [
       "True"
      ]
     },
     "execution_count": 24,
     "metadata": {},
     "output_type": "execute_result"
    }
   ],
   "source": [
    "s = 'abcdaabaa'\n",
    "'a' in s"
   ]
  },
  {
   "cell_type": "code",
   "execution_count": 27,
   "metadata": {},
   "outputs": [
    {
     "data": {
      "text/plain": [
       "<_sre.SRE_Match object; span=(4, 6), match='aa'>"
      ]
     },
     "execution_count": 27,
     "metadata": {},
     "output_type": "execute_result"
    }
   ],
   "source": [
    "re.search('aa',s)"
   ]
  },
  {
   "cell_type": "code",
   "execution_count": 23,
   "metadata": {},
   "outputs": [],
   "source": [
    "re.match('aa',s)"
   ]
  },
  {
   "cell_type": "code",
   "execution_count": 26,
   "metadata": {},
   "outputs": [
    {
     "data": {
      "text/plain": [
       "['aa', 'aa']"
      ]
     },
     "execution_count": 26,
     "metadata": {},
     "output_type": "execute_result"
    }
   ],
   "source": [
    "re.findall('aa',s)"
   ]
  },
  {
   "cell_type": "markdown",
   "metadata": {},
   "source": [
    "# . (dot)\n",
    "\n",
    "- it matches any single character"
   ]
  },
  {
   "cell_type": "code",
   "execution_count": 30,
   "metadata": {},
   "outputs": [],
   "source": [
    "l = ['abc','aca','aaa','abba','']"
   ]
  },
  {
   "cell_type": "code",
   "execution_count": 28,
   "metadata": {},
   "outputs": [
    {
     "name": "stdout",
     "output_type": "stream",
     "text": [
      "abc\n",
      "aca\n",
      "ada\n",
      "abba\n"
     ]
    }
   ],
   "source": [
    "for i in l:\n",
    "    if re.search('.',i):\n",
    "        print(i)"
   ]
  },
  {
   "cell_type": "code",
   "execution_count": 31,
   "metadata": {},
   "outputs": [
    {
     "name": "stdout",
     "output_type": "stream",
     "text": [
      "abc\n",
      "aca\n",
      "aaa\n"
     ]
    }
   ],
   "source": [
    "l = ['abc','aca','aaa','abba','']\n",
    "for i in l:\n",
    "    if len(i)==3:\n",
    "        print(i)"
   ]
  },
  {
   "cell_type": "code",
   "execution_count": 33,
   "metadata": {},
   "outputs": [
    {
     "name": "stdout",
     "output_type": "stream",
     "text": [
      "ab\n",
      "aca\n",
      "aaa\n"
     ]
    }
   ],
   "source": [
    "l = ['ab','aca','aaa','abba','']\n",
    "for i in l:\n",
    "    if len(i)==3 or len(i)==2:\n",
    "        print(i)"
   ]
  },
  {
   "cell_type": "code",
   "execution_count": 35,
   "metadata": {},
   "outputs": [
    {
     "name": "stdout",
     "output_type": "stream",
     "text": [
      "ab\n",
      "aca\n",
      "aaa\n",
      "abba\n"
     ]
    }
   ],
   "source": [
    "for i in l:\n",
    "    if re.search('..',i):\n",
    "        print(i)"
   ]
  },
  {
   "cell_type": "markdown",
   "metadata": {},
   "source": [
    "# *(star)\n",
    "* min value 0 and max value"
   ]
  },
  {
   "cell_type": "code",
   "execution_count": 38,
   "metadata": {},
   "outputs": [
    {
     "name": "stdout",
     "output_type": "stream",
     "text": [
      "ab\n",
      "aca\n",
      "aaa\n",
      "abba\n",
      "\n"
     ]
    }
   ],
   "source": [
    "for i in l:\n",
    "    if re.search('a*',i):\n",
    "        print(i)"
   ]
  },
  {
   "cell_type": "markdown",
   "metadata": {},
   "source": [
    "# +(plus)\n",
    "- min value is 1 max any value"
   ]
  },
  {
   "cell_type": "code",
   "execution_count": 39,
   "metadata": {},
   "outputs": [
    {
     "name": "stdout",
     "output_type": "stream",
     "text": [
      "ab\n",
      "aca\n",
      "aaa\n",
      "abba\n"
     ]
    }
   ],
   "source": [
    "for i in l:\n",
    "    if re.search('a+',i):\n",
    "        print(i)"
   ]
  },
  {
   "cell_type": "code",
   "execution_count": 40,
   "metadata": {},
   "outputs": [
    {
     "name": "stdout",
     "output_type": "stream",
     "text": [
      "aaa\n"
     ]
    }
   ],
   "source": [
    "for i in l:\n",
    "    if re.search('aaa',i):\n",
    "        print(i)"
   ]
  },
  {
   "cell_type": "code",
   "execution_count": 41,
   "metadata": {},
   "outputs": [
    {
     "name": "stdout",
     "output_type": "stream",
     "text": [
      "aca\n",
      "aaa\n",
      "abba\n"
     ]
    }
   ],
   "source": [
    "for i in l:\n",
    "    if re.search('a.+a',i):\n",
    "        print(i)"
   ]
  },
  {
   "cell_type": "markdown",
   "metadata": {},
   "source": [
    "# ^(cap)\n",
    "* startswith\n",
    "\n",
    "# $(dollar)\n",
    "* endswith\n",
    "\n",
    "# \\d:\n",
    "- digits\n",
    "\n",
    "# [Brackets]:\n",
    "- specific values\n",
    "\n",
    "# {min,max}:\n",
    "- minimum to max value\n"
   ]
  },
  {
   "cell_type": "code",
   "execution_count": 42,
   "metadata": {},
   "outputs": [
    {
     "name": "stdout",
     "output_type": "stream",
     "text": [
      "['abc', '123', 'hello', '456']\n"
     ]
    }
   ],
   "source": [
    "s = 'abc 123 hello 456'\n",
    "l = s.split()\n",
    "print(l)"
   ]
  },
  {
   "cell_type": "code",
   "execution_count": 43,
   "metadata": {},
   "outputs": [
    {
     "name": "stdout",
     "output_type": "stream",
     "text": [
      "['1', '123', '2', '456']\n"
     ]
    },
    {
     "data": {
      "text/plain": [
       "582"
      ]
     },
     "execution_count": 43,
     "metadata": {},
     "output_type": "execute_result"
    }
   ],
   "source": [
    "s = '1 123 2 456'\n",
    "l = s.split()\n",
    "print(l)\n",
    "sum(list(map(int,l)))"
   ]
  },
  {
   "cell_type": "code",
   "execution_count": 44,
   "metadata": {},
   "outputs": [
    {
     "data": {
      "text/plain": [
       "['123', '456']"
      ]
     },
     "execution_count": 44,
     "metadata": {},
     "output_type": "execute_result"
    }
   ],
   "source": [
    "s = 'abc 123 hello 456'\n",
    "pattern = '\\d+'\n",
    "re.findall(pattern,s)"
   ]
  },
  {
   "cell_type": "code",
   "execution_count": 45,
   "metadata": {},
   "outputs": [
    {
     "data": {
      "text/plain": [
       "['123', '456']"
      ]
     },
     "execution_count": 45,
     "metadata": {},
     "output_type": "execute_result"
    }
   ],
   "source": [
    "s = 'abc 123 hello 456'\n",
    "pattern = '\\d+'\n",
    "li = re.findall(pattern,s)\n",
    "li"
   ]
  },
  {
   "cell_type": "code",
   "execution_count": 46,
   "metadata": {},
   "outputs": [
    {
     "data": {
      "text/plain": [
       "579"
      ]
     },
     "execution_count": 46,
     "metadata": {},
     "output_type": "execute_result"
    }
   ],
   "source": [
    "s = 'abc 123 hello 456'\n",
    "pattern = '\\d+'\n",
    "li = re.findall(pattern,s)\n",
    "sum(list(map(int,li)))"
   ]
  },
  {
   "cell_type": "code",
   "execution_count": 58,
   "metadata": {},
   "outputs": [
    {
     "name": "stdout",
     "output_type": "stream",
     "text": [
      "Lakshmi\n",
      "salma\n",
      "karishma\n",
      "Lovely\n",
      "Lucky\n"
     ]
    }
   ],
   "source": [
    "names = ['Lakshmi','salma','karishma','Lovely','Lucky']\n",
    "pattern = '.{4}'\n",
    "for name in names:\n",
    "    if re.match(pattern,name):\n",
    "        print(name)"
   ]
  },
  {
   "cell_type": "code",
   "execution_count": 59,
   "metadata": {},
   "outputs": [
    {
     "name": "stdout",
     "output_type": "stream",
     "text": [
      "salma\n",
      "Lucky\n"
     ]
    }
   ],
   "source": [
    "names = ['Lakshmi','salma','karishma','Lovely','Lucky']\n",
    "pattern = '.{5}$'\n",
    "for name in names:\n",
    "    if re.match(pattern,name):\n",
    "        print(name)"
   ]
  },
  {
   "cell_type": "code",
   "execution_count": 60,
   "metadata": {},
   "outputs": [
    {
     "name": "stdout",
     "output_type": "stream",
     "text": [
      "Lakshmi\n",
      "Lovely\n",
      "Lucky\n"
     ]
    }
   ],
   "source": [
    "names = ['Lakshmi','salma','karishma','Lovely','Lucky','aaa']\n",
    "pattern = '^L.+'\n",
    "for name in names:\n",
    "    if re.match(pattern,name):\n",
    "        print(name)"
   ]
  },
  {
   "cell_type": "code",
   "execution_count": 72,
   "metadata": {},
   "outputs": [
    {
     "name": "stdout",
     "output_type": "stream",
     "text": [
      "Lakshmi\n"
     ]
    }
   ],
   "source": [
    "names = ['Lakshmi','salma','karishma','Lovely','LuckyL']\n",
    "pattern = '^L.{6}$'\n",
    "for name in names:\n",
    "    if re.match(pattern,name):\n",
    "        print(name)"
   ]
  },
  {
   "cell_type": "code",
   "execution_count": 75,
   "metadata": {},
   "outputs": [
    {
     "name": "stdout",
     "output_type": "stream",
     "text": [
      "Lakshmi\n"
     ]
    }
   ],
   "source": [
    "names = ['Lakshmi','salma','karishma','lovely','lucky']\n",
    "pattern = 'L.{6}$'\n",
    "pattern1 = '^[Ls].{5}$'\n",
    "for name in names:\n",
    "    if re.match(pattern,name):\n",
    "        print(name)"
   ]
  },
  {
   "cell_type": "code",
   "execution_count": 89,
   "metadata": {},
   "outputs": [],
   "source": [
    "names = ['Lakshmi','salma','karishma','ramu','anil']\n",
    "pattern = '^l.{3}$'\n",
    "pattern1 = '^.+(mi)$'\n",
    "for name in names:\n",
    "    if re.match(pattern,name):\n",
    "        print(name)"
   ]
  },
  {
   "cell_type": "markdown",
   "metadata": {},
   "source": [
    "# How to valid A phone number\n",
    "# 10 digits\n",
    "# starts with 6-9"
   ]
  },
  {
   "cell_type": "code",
   "execution_count": 90,
   "metadata": {},
   "outputs": [
    {
     "name": "stdout",
     "output_type": "stream",
     "text": [
      "9133533090\n",
      "7993296270\n",
      "8712415740\n",
      "7093384843\n"
     ]
    }
   ],
   "source": [
    "numbers = ['9133533090','7993296270','8712415740','7093384843','5689238475']\n",
    "pattern = '^[6-9]\\d{9}$'\n",
    "for number in numbers:\n",
    "    if re.match(pattern,number):\n",
    "        print(number)   "
   ]
  },
  {
   "cell_type": "code",
   "execution_count": 96,
   "metadata": {},
   "outputs": [],
   "source": [
    "numbers = ['9133533090','7993296270','8712415740','7093384843','5689238475']\n",
    "pattern = '^(-91)[6-9]\\d{9}$'\n",
    "for number in numbers:\n",
    "    if re.match(pattern,number):\n",
    "        print(number)\n",
    "    "
   ]
  },
  {
   "cell_type": "code",
   "execution_count": 98,
   "metadata": {},
   "outputs": [
    {
     "name": "stdout",
     "output_type": "stream",
     "text": [
      "+918790670244\n"
     ]
    }
   ],
   "source": [
    "numbers1 = ['+918790670244']\n",
    "pattern = '^(\\+91)[6-9]\\d{9}$'\n",
    "for number in numbers1:\n",
    "    if re.match(pattern,number):\n",
    "        print(number)\n",
    "    "
   ]
  },
  {
   "cell_type": "code",
   "execution_count": 106,
   "metadata": {},
   "outputs": [
    {
     "name": "stdout",
     "output_type": "stream",
     "text": [
      "bojapallilakshmi5@gmail.com\n"
     ]
    }
   ],
   "source": [
    "email = ['bojapallilakshmi5@gmail.com']\n",
    "pattern = '^[a-z]+[0-9]+[@](gmail.com)$'\n",
    "for email in mail:\n",
    "    if re.match(pattern,email):\n",
    "        print(email)\n",
    "    "
   ]
  },
  {
   "cell_type": "markdown",
   "metadata": {},
   "source": [
    "# first starts with any alphabets\n",
    "# any digits\n",
    "# @gmail.com"
   ]
  },
  {
   "cell_type": "code",
   "execution_count": 107,
   "metadata": {},
   "outputs": [
    {
     "name": "stdout",
     "output_type": "stream",
     "text": [
      "enter mail idbojapallilakshmi5@gmail.com\n"
     ]
    }
   ],
   "source": [
    "emails = input('enter mail id')\n",
    "pattern = '^[A-Za-z]{1,15}\\d{1,10}[@](gmail.com)$'\n",
    "if re.match(pattern,email):\n",
    "    print(email)"
   ]
  },
  {
   "cell_type": "code",
   "execution_count": 109,
   "metadata": {},
   "outputs": [
    {
     "name": "stdout",
     "output_type": "stream",
     "text": [
      "enter mail id: bojapallilakshmi5@gmail.com\n"
     ]
    }
   ],
   "source": [
    "emails = input('enter mail id: ')\n",
    "pattern = '^[A-Za-z]{1,15}\\d{1,10}[@](gmail.com)$'\n",
    "if re.match(pattern,email):\n",
    "    print(email)"
   ]
  },
  {
   "cell_type": "code",
   "execution_count": 113,
   "metadata": {},
   "outputs": [
    {
     "name": "stdout",
     "output_type": "stream",
     "text": [
      "enter mail id: bojapallilakshmi5@gmail.com\n"
     ]
    }
   ],
   "source": [
    "emails = input('enter mail id: ')\n",
    "pattern = '^[A-Za-z]{1,15}\\d{1,10}[@](gmail.com)$'\n",
    "if re.match(pattern,email):\n",
    "    print(email)"
   ]
  },
  {
   "cell_type": "markdown",
   "metadata": {},
   "source": [
    "# OOP'S\n",
    "- class:blueprint or model of an object\n",
    "- object:physical entity which is having behaviour and action\n",
    "- constructor:special method which is used to create instance variables\n"
   ]
  },
  {
   "cell_type": "markdown",
   "metadata": {},
   "source": [
    "## Syntax\n",
    "##### create a class:\n",
    "##### class className:\n",
    "        - variables\n",
    "        - methods"
   ]
  },
  {
   "cell_type": "markdown",
   "metadata": {},
   "source": [
    "### Create a class:"
   ]
  },
  {
   "cell_type": "code",
   "execution_count": 114,
   "metadata": {},
   "outputs": [],
   "source": [
    "class Student:\n",
    "    pass"
   ]
  },
  {
   "cell_type": "code",
   "execution_count": 117,
   "metadata": {},
   "outputs": [
    {
     "name": "stdout",
     "output_type": "stream",
     "text": [
      "10\n"
     ]
    }
   ],
   "source": [
    "class Student:\n",
    "    x = 10\n",
    "print(Student.x)"
   ]
  },
  {
   "cell_type": "markdown",
   "metadata": {},
   "source": [
    "### Create an object:\n",
    "##### rv = className()"
   ]
  },
  {
   "cell_type": "code",
   "execution_count": 119,
   "metadata": {},
   "outputs": [
    {
     "data": {
      "text/plain": [
       "10"
      ]
     },
     "execution_count": 119,
     "metadata": {},
     "output_type": "execute_result"
    }
   ],
   "source": [
    "s = Student()\n",
    "s.x"
   ]
  },
  {
   "cell_type": "code",
   "execution_count": 121,
   "metadata": {},
   "outputs": [
    {
     "data": {
      "text/plain": [
       "'Lakshmi'"
      ]
     },
     "metadata": {},
     "output_type": "display_data"
    }
   ],
   "source": [
    " class Student:\n",
    "        x = 10\n",
    "        def display(self,name):\n",
    "            print('hello{}'.format(name))\n",
    "display('Lakshmi')"
   ]
  },
  {
   "cell_type": "code",
   "execution_count": 123,
   "metadata": {},
   "outputs": [
    {
     "name": "stdout",
     "output_type": "stream",
     "text": [
      "10\n",
      "helloLAKSHMI\n"
     ]
    }
   ],
   "source": [
    "class Student:\n",
    "        x = 10\n",
    "        def display(self,name):\n",
    "            print('hello{}'.format(name))\n",
    "s = Student()\n",
    "print(s.x)\n",
    "s.display('LAKSHMI')"
   ]
  },
  {
   "cell_type": "markdown",
   "metadata": {},
   "source": [
    "#### Create a constructor"
   ]
  },
  {
   "cell_type": "code",
   "execution_count": 135,
   "metadata": {},
   "outputs": [
    {
     "name": "stdout",
     "output_type": "stream",
     "text": [
      "This is constructor..\n",
      "This is constructor..\n",
      "This is constructor..\n",
      "10\n",
      "20\n",
      "This is method...\n",
      "This is method...\n",
      "30\n"
     ]
    }
   ],
   "source": [
    "class Student:\n",
    "    x = 10 # class variable or static\n",
    "    def __init__(self):\n",
    "        self.y = 20 # instance var\n",
    "        print('This is constructor..')\n",
    "    def m1(self):\n",
    "        z = 30 # local var\n",
    "        print('This is method...')\n",
    "        print('This is method...')\n",
    "        print(z)\n",
    "s = Student()\n",
    "s1 = Student()\n",
    "s.__init__()\n",
    "print(s.x)\n",
    "print(s.y)\n",
    "s.m1()"
   ]
  },
  {
   "cell_type": "code",
   "execution_count": 140,
   "metadata": {},
   "outputs": [
    {
     "name": "stdout",
     "output_type": "stream",
     "text": [
      "This is constructor..\n",
      "This is method...\n",
      "my name is Lakshmi\n",
      "30\n"
     ]
    }
   ],
   "source": [
    "class Student:\n",
    "    x = 10 # class variable or static\n",
    "    def __init__(self,name):\n",
    "        self.name = name\n",
    "        self.y = 20 # instance var\n",
    "        print('This is constructor..')\n",
    "    def m1(self):\n",
    "        z = 30 # local var\n",
    "        print('This is method...')\n",
    "        print('my name is {}'.format(self.name))\n",
    "        print(z)\n",
    "#s = Student()\n",
    "#s.__init__()\n",
    "#rint(s.x)\n",
    "#print(s.y)\n",
    "#s.m1()\n",
    "s =Student('Lakshmi')\n",
    "s.m1()"
   ]
  },
  {
   "cell_type": "code",
   "execution_count": 143,
   "metadata": {},
   "outputs": [
    {
     "name": "stdout",
     "output_type": "stream",
     "text": [
      "Collecting matplotlibNote: you may need to restart the kernel to use updated packages.\n",
      "  Downloading https://files.pythonhosted.org/packages/bc/70/f027bca1786560db256a71d1941e31e988822f6ccad3d34d49973c86cfd4/matplotlib-3.3.3-cp36-cp36m-win32.whl (8.3MB)\n",
      "Collecting pillow>=6.2.0 (from matplotlib)\n",
      "  Downloading https://files.pythonhosted.org/packages/19/fb/9d4c1b6a2edab6306b8502b0f4e341d74ef5387079990e298f23031b041a/Pillow-8.1.0-cp36-cp36m-win32.whl (1.9MB)\n",
      "Collecting numpy>=1.15 (from matplotlib)\n",
      "  Downloading https://files.pythonhosted.org/packages/b2/4f/5b2cdd441e92555377003b06c0c2c4ba0282a2bfe809f89a009e853fb26b/numpy-1.19.5-cp36-cp36m-win32.whl (11.0MB)\n",
      "Collecting cycler>=0.10 (from matplotlib)\n",
      "  Downloading https://files.pythonhosted.org/packages/f7/d2/e07d3ebb2bd7af696440ce7e754c59dd546ffe1bbe732c8ab68b9c834e61/cycler-0.10.0-py2.py3-none-any.whl\n",
      "Requirement already satisfied: pyparsing!=2.0.4,!=2.1.2,!=2.1.6,>=2.0.3 in c:\\users\\admin\\appdata\\local\\programs\\python\\python36-32\\lib\\site-packages (from matplotlib)\n",
      "Requirement already satisfied: python-dateutil>=2.1 in c:\\users\\admin\\appdata\\local\\programs\\python\\python36-32\\lib\\site-packages (from matplotlib)\n",
      "Collecting kiwisolver>=1.0.1 (from matplotlib)\n",
      "  Downloading https://files.pythonhosted.org/packages/da/24/a4efae6da972b654350601c7b8a8979ad81ae944c7692934871acf5554e2/kiwisolver-1.3.1-cp36-cp36m-win32.whl (42kB)\n",
      "Requirement already satisfied: six in c:\\users\\admin\\appdata\\local\\programs\\python\\python36-32\\lib\\site-packages (from cycler>=0.10->matplotlib)\n",
      "Installing collected packages: pillow, numpy, cycler, kiwisolver, matplotlib\n",
      "Successfully installed cycler-0.10.0 kiwisolver-1.3.1 matplotlib-3.3.3 numpy-1.19.5 pillow-8.1.0\n",
      "\n"
     ]
    },
    {
     "name": "stderr",
     "output_type": "stream",
     "text": [
      "You are using pip version 9.0.3, however version 20.3.3 is available.\n",
      "You should consider upgrading via the 'python -m pip install --upgrade pip' command.\n"
     ]
    }
   ],
   "source": [
    "pip install matplotlib\n"
   ]
  },
  {
   "cell_type": "code",
   "execution_count": 144,
   "metadata": {},
   "outputs": [],
   "source": [
    "import matplotlib.pyplot as plt"
   ]
  },
  {
   "cell_type": "code",
   "execution_count": 145,
   "metadata": {},
   "outputs": [
    {
     "data": {
      "text/plain": [
       "<BarContainer object of 4 artists>"
      ]
     },
     "execution_count": 145,
     "metadata": {},
     "output_type": "execute_result"
    },
    {
     "data": {
      "image/png": "[encoded data removed]",
      "text/plain": [
       "<Figure size 432x288 with 1 Axes>"
      ]
     },
     "metadata": {
      "needs_background": "light"
     },
     "output_type": "display_data"
    }
   ],
   "source": [
    "s = [90,45,67,89]\n",
    "s1 = [67,88,76,90]\n",
    "plt.bar(s,s1)"
   ]
  },
  {
   "cell_type": "code",
   "execution_count": 147,
   "metadata": {},
   "outputs": [
    {
     "data": {
      "text/plain": [
       "<BarContainer object of 4 artists>"
      ]
     },
     "execution_count": 147,
     "metadata": {},
     "output_type": "execute_result"
    },
    {
     "data": {
      "image/png": "[encoded data removed]",
      "text/plain": [
       "<Figure size 432x288 with 1 Axes>"
      ]
     },
     "metadata": {
      "needs_background": "light"
     },
     "output_type": "display_data"
    }
   ],
   "source": [
    "s = [90,45,67,89]\n",
    "s1 = [67,88,76,90]\n",
    "plt.bar(s,s1,color = 'yellow')"
   ]
  },
  {
   "cell_type": "code",
   "execution_count": 150,
   "metadata": {},
   "outputs": [
    {
     "data": {
      "text/plain": [
       "([<matplotlib.patches.Wedge at 0x1d211f0>,\n",
       "  <matplotlib.patches.Wedge at 0xbaaffd0>,\n",
       "  <matplotlib.patches.Wedge at 0xbabd230>,\n",
       "  <matplotlib.patches.Wedge at 0xbabd4d0>],\n",
       " [Text(1.062518406696673, 0.28470095790278555, ''),\n",
       "  Text(0.5499999702695115, 0.9526279613277875, ''),\n",
       "  Text(-0.9526279870751434, 0.5499999256737774, ''),\n",
       "  Text(0.2847010325128994, -1.0625183867049497, '')])"
      ]
     },
     "execution_count": 150,
     "metadata": {},
     "output_type": "execute_result"
    },
    {
     "data": {
      "image/png": "[encoded data removed]",
      "text/plain": [
       "<Figure size 432x288 with 1 Axes>"
      ]
     },
     "metadata": {},
     "output_type": "display_data"
    }
   ],
   "source": [
    "plt.pie([1,2,4,5])"
   ]
  },
  {
   "cell_type": "code",
   "execution_count": 151,
   "metadata": {},
   "outputs": [
    {
     "data": {
      "text/plain": [
       "Text(0.5, 1.0, 'Pace college')"
      ]
     },
     "execution_count": 151,
     "metadata": {},
     "output_type": "execute_result"
    },
    {
     "data": {
      "image/png": "[encoded data removed]",
      "text/plain": [
       "<Figure size 432x288 with 1 Axes>"
      ]
     },
     "metadata": {
      "needs_background": "light"
     },
     "output_type": "display_data"
    }
   ],
   "source": [
    "plt.bar(s,s1,color = 'blue')\n",
    "plt.xlabel('s')\n",
    "plt.ylabel('s1')\n",
    "plt.title('Pace college')"
   ]
  }
 ],
 "metadata": {
  "kernelspec": {
   "display_name": "Python 3",
   "language": "python",
   "name": "python3"
  },
  "language_info": {
   "codemirror_mode": {
    "name": "ipython",
    "version": 3
   },
   "file_extension": ".py",
   "mimetype": "text/x-python",
   "name": "python",
   "nbconvert_exporter": "python",
   "pygments_lexer": "ipython3",
   "version": "3.6.5"
  }
 },
 "nbformat": 4,
 "nbformat_minor": 4
}
